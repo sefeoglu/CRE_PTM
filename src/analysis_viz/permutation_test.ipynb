{
 "cells": [
  {
   "cell_type": "code",
   "execution_count": 17,
   "id": "7a4644d9",
   "metadata": {},
   "outputs": [],
   "source": [
    "import os\n",
    "import json\n",
    "from sklearn.metrics import multilabel_confusion_matrix, accuracy_score as accuracy\n",
    "\n",
    "import numpy as np\n",
    "import pandas as pd\n",
    "\n",
    "def read_json(path):\n",
    "    with open(path, 'r', encoding=\"utf-8\") as f:\n",
    "        data = json.load(f)\n",
    "    return data\n",
    "\n",
    "def write_json(data, path):\n",
    "    if not os.path.exists(os.path.dirname(path)):\n",
    "        os.makedirs(os.path.dirname(path))\n",
    "    with open(path, 'w', encoding=\"utf-8\") as f:\n",
    "        json.dump(data, f, indent=4, ensure_ascii=False)"
   ]
  },
  {
   "cell_type": "code",
   "execution_count": 26,
   "id": "367ee93f",
   "metadata": {},
   "outputs": [],
   "source": [
    "def get_all_tests(folder):\n",
    "    tests=[]\n",
    "    for id in range(1,11):\n",
    "        test_path = folder + f\"task{id}/test_1.json\"\n",
    "        data = read_json(test_path)\n",
    "        \n",
    "        tests.extend(data)\n",
    "    return tests"
   ]
  },
  {
   "cell_type": "code",
   "execution_count": null,
   "id": "8b7b79f6",
   "metadata": {},
   "outputs": [],
   "source": [
    "def calculate_accuracy(y_pred_folder):\n",
    "    acc_list = []\n",
    "    for run_id in range(1,6):\n",
    "        gt_folder = f\"/Users/sefika/phd_projects/CRE_PTM/data/tacred/data/llama_format_data/test/run_{run_id}/\"\n",
    "        y_true = get_all_tests(gt_folder)\n",
    "        y_true = [item['relation'] for item in y_true]\n",
    "        y_pred_path = f\"{y_pred_folder}/model{run_id}/task_10_seen_task.json\"\n",
    "        y_pred = read_json(y_pred_path)\n",
    "        y_pred = [item['clean'] for item in y_pred]\n",
    "        print(f\"Run {run_id} - y_true: {len(y_true)}, y_pred: {len(y_pred)}\")\n",
    "        filtered = [(yt, yp) for yt, yp in zip(y_true, y_pred) if yt is not None and yp is not None]\n",
    "        y_true_filtered, y_pred_filtered = zip(*filtered)\n",
    "    \n",
    "        acc = accuracy(y_true_filtered, y_pred_filtered) * 100\n",
    "        # acc = accuracy(y_true, y_pred)*100\n",
    "        acc_list.append(acc)\n",
    "    return acc_list"
   ]
  },
  {
   "cell_type": "code",
   "execution_count": 100,
   "id": "5d039ae1",
   "metadata": {},
   "outputs": [],
   "source": [
    "import numpy as np\n",
    "np.random.seed(42)\n",
    "def permutation_test(group1, group2, num_permutations=10000, alternative='two-sided'):\n",
    "    observed_diff = np.mean(group1) - np.mean(group2)\n",
    "    combined = np.concatenate([group1, group2])\n",
    "    count = 0\n",
    "\n",
    "    for _ in range(num_permutations):\n",
    "        np.random.shuffle(combined)\n",
    "        new_group1 = combined[:len(group1)]\n",
    "        new_group2 = combined[len(group1):]\n",
    "        new_diff = np.mean(new_group1) - np.mean(new_group2)\n",
    "\n",
    "        if alternative == 'two-sided':\n",
    "            count += abs(new_diff) >= abs(observed_diff)\n",
    "        elif alternative == 'greater':\n",
    "            count += new_diff >= observed_diff\n",
    "        elif alternative == 'less':\n",
    "            count += new_diff <= observed_diff\n",
    "\n",
    "    p_value = count / num_permutations\n",
    "    return observed_diff, p_value\n"
   ]
  },
  {
   "cell_type": "code",
   "execution_count": 52,
   "id": "08c5e721",
   "metadata": {},
   "outputs": [],
   "source": [
    "no_replay_mistral = read_json(\"/Users/sefika/phd_projects/CRE_PTM copy/src/test/results_memory_cl_tacred/mistal_results/m_0/seen_metric.json\")\n",
    "memory_5_mistral = read_json(\"/Users/sefika/phd_projects/CRE_PTM copy/src/test/results_memory_cl_tacred/mistal_results/m_5/seen_metric.json\")\n",
    "memory_10_mistral = read_json(\"/Users/sefika/phd_projects/CRE_PTM copy/src/test/results_memory_cl_tacred/mistal_results/m_10/seen_metric.json\")\n",
    "memory_15_mistral = read_json(\"/Users/sefika/phd_projects/CRE_PTM copy/src/test/results_memory_cl_tacred/mistal_results/m_15/seen_metric.json\")"
   ]
  },
  {
   "cell_type": "code",
   "execution_count": 53,
   "id": "a7e0e525",
   "metadata": {},
   "outputs": [],
   "source": [
    "no_replay_mistral_df = pd.DataFrame(no_replay_mistral)\n",
    "memory_5_mistral_df = pd.DataFrame(memory_5_mistral)\n",
    "memory_10_mistral_df = pd.DataFrame(memory_10_mistral)\n",
    "\n",
    "memory_15_mistral_df = pd.DataFrame(memory_15_mistral)"
   ]
  },
  {
   "cell_type": "code",
   "execution_count": 49,
   "id": "538fb961",
   "metadata": {},
   "outputs": [],
   "source": [
    "no_replay_mistral_samples = [\n",
    "    (no_replay_mistral_df[(no_replay_mistral_df['run'] == i) & (no_replay_mistral_df['task'] == 10)]['acc'].item() * 100)\n",
    "    for i in range(1, 6)\n",
    "]\n"
   ]
  },
  {
   "cell_type": "code",
   "execution_count": null,
   "id": "2bb3d5a9",
   "metadata": {},
   "outputs": [],
   "source": [
    "no_replay_mistral_samples\n"
   ]
  },
  {
   "cell_type": "code",
   "execution_count": 47,
   "id": "9793a691",
   "metadata": {},
   "outputs": [],
   "source": [
    "memory_5_mistral_samples = [\n",
    "    (memory_5_mistral_df[(memory_5_mistral_df['run'] == i) & (memory_5_mistral_df['task'] == 10)]['acc'].item() * 100)\n",
    "    for i in range(1, 6)\n",
    "]\n"
   ]
  },
  {
   "cell_type": "code",
   "execution_count": 46,
   "id": "54293171",
   "metadata": {},
   "outputs": [],
   "source": [
    "memory_10_mistral_samples = [\n",
    "    (memory_10_mistral_df[(memory_10_mistral_df['run'] == i) & (memory_10_mistral_df['task'] == 10)]['acc'].item() * 100)\n",
    "    for i in range(1, 6)\n",
    "]\n"
   ]
  },
  {
   "cell_type": "code",
   "execution_count": 45,
   "id": "05184776",
   "metadata": {},
   "outputs": [],
   "source": [
    "memory_15_mistral_samples = [\n",
    "    (memory_15_mistral_df[(memory_15_mistral_df['run'] == i) & (memory_15_mistral_df['task'] == 10)]['acc'].item() * 100)\n",
    "    for i in range(1, 6)\n",
    "]\n"
   ]
  },
  {
   "cell_type": "code",
   "execution_count": 44,
   "id": "08e87c2e",
   "metadata": {},
   "outputs": [
    {
     "name": "stdout",
     "output_type": "stream",
     "text": [
      "Observed difference in means: 0.016\n",
      "P-value: 1.0000\n"
     ]
    }
   ],
   "source": [
    "diff, p_val = permutation_test(\n",
    "    no_replay_mistral_samples,\n",
    "    memory_15_mistral_samples,\n",
    "    num_permutations=10,\n",
    "    alternative='two-sided'\n",
    ")\n",
    "print(f\"Observed difference in means: {diff:.3f}\")\n",
    "print(f\"P-value: {p_val:.4f}\")\n"
   ]
  },
  {
   "cell_type": "markdown",
   "id": "d8110c97",
   "metadata": {},
   "source": [
    "## Flan T5"
   ]
  },
  {
   "cell_type": "code",
   "execution_count": 43,
   "id": "34e5edf3",
   "metadata": {},
   "outputs": [],
   "source": [
    "memory_10_t5_samples =[]\n",
    "for model_id in range(1, 6):\n",
    "    file = f\"/Users/sefika/phd_projects/CRE_PTM copy/src/test/results_memory_cl_tacred/memory_experiments/m10/model{model_id}/task_10_seen_task_result.json\"\n",
    "    acc = read_json(file)[0][\"acc\"]*100\n",
    "    memory_10_t5_samples.append(acc)"
   ]
  },
  {
   "cell_type": "code",
   "execution_count": 42,
   "id": "a6687ad2",
   "metadata": {},
   "outputs": [],
   "source": [
    "memory_5_t5_samples =[]\n",
    "for model_id in range(1, 6):\n",
    "    file = f\"/Users/sefika/phd_projects/CRE_PTM copy/src/test/results_memory_cl_tacred/memory_experiments/m5/model{model_id}/task_10_seen_task_result.json\"\n",
    "    acc = read_json(file)[0][\"acc\"]*100\n",
    "    memory_5_t5_samples.append(acc)"
   ]
  },
  {
   "cell_type": "code",
   "execution_count": 41,
   "id": "6b9cbeb8",
   "metadata": {},
   "outputs": [],
   "source": [
    "memory_15_t5_samples =[]\n",
    "for model_id in range(1, 6):\n",
    "    file = f\"/Users/sefika/phd_projects/CRE_PTM copy/src/test/results_memory_cl_tacred/memory_experiments/m15/model{model_id}/task_10_seen_task_result.json\"\n",
    "    acc = read_json(file)[0][\"acc\"]*100\n",
    "    memory_15_t5_samples.append(acc)"
   ]
  },
  {
   "cell_type": "code",
   "execution_count": 40,
   "id": "cbc300f0",
   "metadata": {},
   "outputs": [],
   "source": [
    "no_replay_t5_samples =[]\n",
    "for model_id in range(1, 6):\n",
    "    file = f\"/Users/sefika/phd_projects/CRE_PTM copy/src/test/results_memory_cl_tacred/fine-tuning/relatedwork/model{model_id}/task_10_seen_task_result.json\"\n",
    "    acc = read_json(file)[0][\"acc\"]*100\n",
    "    no_replay_t5_samples.append(acc)"
   ]
  },
  {
   "cell_type": "markdown",
   "id": "ab357a1d",
   "metadata": {},
   "source": [
    "## Llama2 - 7B"
   ]
  },
  {
   "cell_type": "code",
   "execution_count": null,
   "id": "15d258bb",
   "metadata": {},
   "outputs": [],
   "source": [
    "\n",
    "pred_folder = \"/Users/sefika/phd_projects/CRE_PTM copy/src/clean/llama_results_clean/m_15\"\n",
    "memory_15_llama_samples = calculate_accuracy(pred_folder)\n",
    "    "
   ]
  },
  {
   "cell_type": "code",
   "execution_count": null,
   "id": "5f0b7041",
   "metadata": {},
   "outputs": [],
   "source": [
    "\n",
    "pred_folder = f\"/Users/sefika/phd_projects/CRE_PTM copy/src/clean/llama_results_clean/m_10\"\n",
    " \n",
    "memory_10_llama_samples = calculate_accuracy(pred_folder)"
   ]
  },
  {
   "cell_type": "code",
   "execution_count": null,
   "id": "a17a1b69",
   "metadata": {},
   "outputs": [],
   "source": [
    "memory_10_llama_samples"
   ]
  },
  {
   "cell_type": "code",
   "execution_count": null,
   "id": "b8169d88",
   "metadata": {},
   "outputs": [],
   "source": [
    "\n",
    "pred_folder = f\"/Users/sefika/phd_projects/CRE_PTM copy/src/clean/llama_results_clean/m_5\"\n",
    "memory_5_llama_samples = calculate_accuracy(pred_folder)"
   ]
  },
  {
   "cell_type": "code",
   "execution_count": null,
   "id": "28503c63",
   "metadata": {},
   "outputs": [],
   "source": [
    "\n",
    "pred_folder = f\"/Users/sefika/phd_projects/CRE_PTM copy/src/clean/llama_results_clean/m_0/\"\n",
    "no_replay_llama_samples = calculate_accuracy(pred_folder)"
   ]
  },
  {
   "cell_type": "code",
   "execution_count": 74,
   "id": "6e643027",
   "metadata": {},
   "outputs": [],
   "source": [
    "samples= {\"no_replay_mistral_samples\": no_replay_mistral_samples,\n",
    "            \"memory_5_mistral_samples\": memory_5_mistral_samples,\n",
    "            \"memory_10_mistral_samples\": memory_10_mistral_samples,\n",
    "            \"memory_15_mistral_samples\": memory_15_mistral_samples,\n",
    "            \"no_replay_t5_samples\": no_replay_t5_samples,\n",
    "            \"memory_5_t5_samples\": memory_5_t5_samples,\n",
    "            \"memory_10_t5_samples\": memory_10_t5_samples,\n",
    "            \"memory_15_t5_samples\": memory_15_t5_samples,\n",
    "            \"no_replay_llama_samples\": no_replay_llama_samples,\n",
    "            \"memory_5_llama_samples\": memory_5_llama_samples,\n",
    "            \"memory_10_llama_samples\": memory_10_llama_samples,\n",
    "            \"memory_15_llama_samples\": memory_15_llama_samples\n",
    "            }"
   ]
  },
  {
   "cell_type": "code",
   "execution_count": 101,
   "id": "7dd2c5f8",
   "metadata": {},
   "outputs": [],
   "source": [
    "def return_group_samples(group1, group2, iterations):\n",
    "    diff, p_val = permutation_test(\n",
    "        group1,\n",
    "        group2,\n",
    "        num_permutations=iterations,\n",
    "        alternative='two-sided'\n",
    "    )\n",
    "    return {'diff': diff, 'p_val': p_val}"
   ]
  },
  {
   "cell_type": "code",
   "execution_count": null,
   "id": "9ee77bcf",
   "metadata": {},
   "outputs": [],
   "source": [
    "result_t5 = {\n",
    "\n",
    "    'no_replay_vs_memory_15_iter_100': return_group_samples(no_replay_t5_samples, memory_15_t5_samples,100),\n",
    "    'no_replay_vs_memory_10_iter_100': return_group_samples(no_replay_t5_samples, memory_10_t5_samples,100),\n",
    "    'no_replay_vs_memory_5_iter_100': return_group_samples(no_replay_t5_samples, memory_5_t5_samples,100),\n",
    "    'no_replay_vs_memory_15_iter_1000': return_group_samples(no_replay_t5_samples, memory_15_t5_samples,1000),\n",
    "    'no_replay_vs_memory_10_iter_1000': return_group_samples(no_replay_t5_samples, memory_10_t5_samples,1000),\n",
    "    'no_replay_vs_memory_5_iter_1000': return_group_samples(no_replay_t5_samples, memory_5_t5_samples,1000),\n",
    "    'no_replay_vs_memory_15_iter_10000': return_group_samples(no_replay_t5_samples, memory_15_t5_samples,10000),\n",
    "    'no_replay_vs_memory_10_iter_10000': return_group_samples(no_replay_t5_samples, memory_10_t5_samples,10000),\n",
    "    'no_replay_vs_memory_5_iter_10000': return_group_samples(no_replay_t5_samples, memory_5_t5_samples,10000),\n",
    "\n",
    "}"
   ]
  },
  {
   "cell_type": "code",
   "execution_count": 111,
   "id": "4c9abf73",
   "metadata": {},
   "outputs": [],
   "source": [
    "write_json(result_t5, \"./t5_permutation_test_results.json\")"
   ]
  },
  {
   "cell_type": "code",
   "execution_count": 112,
   "id": "113add2e",
   "metadata": {},
   "outputs": [],
   "source": [
    "result_mistral = {\n",
    "\n",
    "    'no_replay_vs_memory_15_iter_100': return_group_samples(no_replay_mistral_samples, memory_15_mistral_samples,100),\n",
    "    'no_replay_vs_memory_10_iter_100': return_group_samples(no_replay_mistral_samples, memory_10_mistral_samples,100),\n",
    "    'no_replay_vs_memory_5_iter_100': return_group_samples(no_replay_mistral_samples, memory_5_mistral_samples,100),\n",
    "    'no_replay_vs_memory_15_iter_1000': return_group_samples(no_replay_mistral_samples, memory_15_mistral_samples,1000),\n",
    "    'no_replay_vs_memory_10_iter_1000': return_group_samples(no_replay_mistral_samples, memory_10_mistral_samples,1000),\n",
    "    'no_replay_vs_memory_5_iter_1000': return_group_samples(no_replay_mistral_samples, memory_5_mistral_samples,1000),\n",
    "    'no_replay_vs_memory_15_iter_10000': return_group_samples(no_replay_mistral_samples, memory_15_mistral_samples,10000),\n",
    "    'no_replay_vs_memory_10_iter_10000': return_group_samples(no_replay_mistral_samples, memory_10_mistral_samples,10000),\n",
    "    'no_replay_vs_memory_5_iter_10000': return_group_samples(no_replay_mistral_samples, memory_5_mistral_samples,10000),\n",
    "\n",
    "}"
   ]
  },
  {
   "cell_type": "code",
   "execution_count": 113,
   "id": "4504dcba",
   "metadata": {},
   "outputs": [],
   "source": [
    "\n",
    "write_json(result_mistral, \"./mistral_permutation_test_results.json\")"
   ]
  },
  {
   "cell_type": "code",
   "execution_count": null,
   "id": "87ad5c48",
   "metadata": {},
   "outputs": [],
   "source": [
    "result_llama = {\n",
    "\n",
    "    'no_replay_vs_memory_15_iter_100': return_group_samples(no_replay_llama_samples, memory_15_llama_samples,100),\n",
    "    'no_replay_vs_memory_10_iter_100': return_group_samples(no_replay_llama_samples, memory_10_llama_samples,100),\n",
    "    'no_replay_vs_memory_5_iter_100': return_group_samples(no_replay_llama_samples, memory_5_llama_samples,100),\n",
    "    'no_replay_vs_memory_15_iter_1000': return_group_samples(no_replay_llama_samples, memory_15_llama_samples,1000),\n",
    "    'no_replay_vs_memory_10_iter_1000': return_group_samples(no_replay_llama_samples, memory_10_llama_samples,1000),\n",
    "    'no_replay_vs_memory_5_iter_1000': return_group_samples(no_replay_llama_samples, memory_5_llama_samples,1000),\n",
    "    'no_replay_vs_memory_15_iter_10000': return_group_samples(no_replay_llama_samples, memory_15_llama_samples,10000),\n",
    "    'no_replay_vs_memory_10_iter_10000': return_group_samples(no_replay_llama_samples, memory_10_llama_samples,10000),\n",
    "    'no_replay_vs_memory_5_iter_10000': return_group_samples(no_replay_llama_samples, memory_5_llama_samples,10000),\n",
    "\n",
    "}"
   ]
  },
  {
   "cell_type": "code",
   "execution_count": 115,
   "id": "d3b5348f",
   "metadata": {},
   "outputs": [],
   "source": [
    "write_json(result_llama, \"./llama_permutation_test_results.json\")"
   ]
  },
  {
   "cell_type": "code",
   "execution_count": 93,
   "id": "5ad9f320",
   "metadata": {},
   "outputs": [
    {
     "data": {
      "text/plain": [
       "[94.11283728536387,\n",
       " 94.84873262469338,\n",
       " 96.97465249386754,\n",
       " 96.32052330335242,\n",
       " 93.54047424366311]"
      ]
     },
     "execution_count": 93,
     "metadata": {},
     "output_type": "execute_result"
    }
   ],
   "source": [
    "memory_5_t5_samples"
   ]
  },
  {
   "cell_type": "code",
   "execution_count": null,
   "id": "28b05d99",
   "metadata": {},
   "outputs": [],
   "source": [
    "result_llama"
   ]
  }
 ],
 "metadata": {
  "kernelspec": {
   "display_name": "base",
   "language": "python",
   "name": "python3"
  },
  "language_info": {
   "codemirror_mode": {
    "name": "ipython",
    "version": 3
   },
   "file_extension": ".py",
   "mimetype": "text/x-python",
   "name": "python",
   "nbconvert_exporter": "python",
   "pygments_lexer": "ipython3",
   "version": "3.11.8"
  }
 },
 "nbformat": 4,
 "nbformat_minor": 5
}
