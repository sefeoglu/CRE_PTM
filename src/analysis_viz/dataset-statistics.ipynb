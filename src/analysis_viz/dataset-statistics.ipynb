{
 "cells": [
  {
   "cell_type": "markdown",
   "id": "6aa6b746-8cb5-4bc0-a951-4a0647eca6d4",
   "metadata": {},
   "source": [
    "# Dataset Statistics"
   ]
  },
  {
   "cell_type": "code",
   "execution_count": 1,
   "id": "f0080145-c4b2-40f0-a363-ce2567bf2789",
   "metadata": {},
   "outputs": [
    {
     "name": "stderr",
     "output_type": "stream",
     "text": [
      "[nltk_data] Downloading package punkt to /Users/sefika/nltk_data...\n",
      "[nltk_data]   Package punkt is already up-to-date!\n",
      "Using the latest cached version of the module from /Users/sefika/.cache/huggingface/modules/evaluate_modules/metrics/evaluate-metric--rouge/b01e0accf3bd6dd24839b769a5fda24e14995071570870922c71970b3a6ed886 (last modified on Fri May 24 14:46:33 2024) since it couldn't be found locally at evaluate-metric--rouge, or remotely on the Hugging Face Hub.\n"
     ]
    }
   ],
   "source": [
    "# libraries\n",
    "import torch\n",
    "import json\n",
    "import evaluate\n",
    "import nltk, torch\n",
    "import nltk\n",
    "from nltk.tokenize import word_tokenize\n",
    "nltk.download(\"punkt\")\n",
    "\n",
    "\n",
    "\n"
   ]
  },
  {
   "cell_type": "code",
   "execution_count": null,
   "id": "a8bf2a4f-0b2b-42e4-bb96-9436b313f06c",
   "metadata": {},
   "outputs": [],
   "source": [
    "# common functions"
   ]
  },
  {
   "cell_type": "code",
   "execution_count": 105,
   "id": "5fad41fe-b08c-44a5-871c-061f132f9c9e",
   "metadata": {},
   "outputs": [],
   "source": [
    "import json\n",
    "import numpy as np\n",
    "\n",
    "def read_json(path):\n",
    "    with open(path, 'r', encoding=\"utf-8\") as f:\n",
    "        data = json.load(f)\n",
    "    return data\n",
    "\n",
    "# def write_json(data, path):\n",
    "#     with open(path, 'w', encoding=\"utf-8\") as f:\n",
    "#         json.dump(data, f, indent=4, ensure_ascii=False)\n",
    "\n",
    "\n",
    "\n",
    "\n",
    "def total_count_dataset(data):\n",
    "    token_count_stat = []\n",
    "    for i, line in enumerate(data):\n",
    "        tokens = line['tokens'] if 'token' in line.keys() else line['token']\n",
    "        count = len(tokens)\n",
    "        line['token_count'] = count\n",
    "        token_count_stat.append(line)\n",
    "        \n",
    "    return token_count_stat\n",
    "        \n",
    "        \n",
    "def compute_stats(data):\n",
    "    counts_token = []\n",
    "    total_sentence = len(data)\n",
    "    for item in data:\n",
    "        counts_token.append( item['token_count'])\n",
    "    mean = np.mean(counts_token)\n",
    "    min = np.min(counts_token)\n",
    "    max = np.max(counts_token)\n",
    "    stats = {'min':min, 'max':max, 'mean':mean, 'size':total_sentence}\n",
    "    return stats\n"
   ]
  },
  {
   "cell_type": "code",
   "execution_count": 7,
   "id": "2b1f1419-54ba-4064-883c-8ec33c180a31",
   "metadata": {},
   "outputs": [],
   "source": [
    "def visualize_stats_with_barchart():\n",
    "    pass"
   ]
  },
  {
   "cell_type": "code",
   "execution_count": 5,
   "id": "daac0889-6a47-42d0-8b85-c7e3413c71f1",
   "metadata": {},
   "outputs": [],
   "source": [
    "tokenizer= set_tokenizer()"
   ]
  },
  {
   "cell_type": "markdown",
   "id": "5932e087-f61a-4325-aad8-a90e4f11853b",
   "metadata": {},
   "source": [
    "## FewRel"
   ]
  },
  {
   "cell_type": "code",
   "execution_count": 9,
   "id": "72d10946-cefc-4b7f-adf5-057e80f91bcb",
   "metadata": {},
   "outputs": [],
   "source": [
    "# all_data\n",
    "all_data_path = \"/Users/sefika/phd_projects/CRE_PTM/data/fewrel/all_fewrel_data.json\"\n"
   ]
  },
  {
   "cell_type": "code",
   "execution_count": 29,
   "id": "92007569-8f80-496c-a651-3532b698595a",
   "metadata": {},
   "outputs": [],
   "source": [
    "fewrel_data = read_json(all_data_path)\n",
    "data_info = total_count_dataset(fewrel_data)"
   ]
  },
  {
   "cell_type": "code",
   "execution_count": 111,
   "id": "2bf994c5-b86a-4254-a757-89226dd1bc12",
   "metadata": {},
   "outputs": [],
   "source": [
    "fewrel_stats = compute_stats(data_info)"
   ]
  },
  {
   "cell_type": "markdown",
   "id": "f6ae3bb7-97d2-48d4-9b46-4cfd6d82a1b9",
   "metadata": {},
   "source": [
    "## TACRED"
   ]
  },
  {
   "cell_type": "code",
   "execution_count": 37,
   "id": "81631fec-575c-49d6-be11-7424fd6c0163",
   "metadata": {},
   "outputs": [],
   "source": [
    "task_path = '/Users/sefika/phd_projects/CRE_PTM copy/data/tacred/related_work_results/resluts/tacred_tasks.json'\n",
    "task_relation = read_json(task_path)"
   ]
  },
  {
   "cell_type": "code",
   "execution_count": 59,
   "id": "0ea00be0-11ab-43fd-8122-5ea7ee5ef6b7",
   "metadata": {},
   "outputs": [
    {
     "name": "stdout",
     "output_type": "stream",
     "text": [
      "['per:cities_of_residence', 'per:other_family', 'org:founded', 'per:origin']\n",
      "['per:cause_of_death', 'org:dissolved', 'per:employee_of', 'org:member_of']\n",
      "['per:parents', 'per:alternate_names', 'org:top_members/employees', 'per:siblings']\n",
      "['per:stateorprovinces_of_residence', 'org:alternate_names', 'org:country_of_headquarters', 'per:country_of_birth']\n",
      "['per:children', 'per:date_of_birth', 'org:founded_by', 'per:countries_of_residence']\n",
      "['per:schools_attended', 'org:subsidiaries', 'org:members', 'org:political/religious_affiliation']\n",
      "['org:stateorprovince_of_headquarters', 'per:charges', 'per:stateorprovince_of_birth', 'per:title']\n",
      "['per:stateorprovince_of_death', 'org:number_of_employees/members', 'per:city_of_death', 'per:spouse']\n",
      "['org:website', 'per:age', 'per:city_of_birth', 'per:date_of_death']\n",
      "['org:shareholders', 'org:parents', 'org:city_of_headquarters', 'per:religion']\n"
     ]
    }
   ],
   "source": [
    "task_relation_types =task_relation['run_1']\n",
    "relation_types = []\n",
    "for task_name  in task_relation_types:\n",
    "    print(task_relation_types[task_name])\n",
    "    relation_types.extend(task_relation_types[task_name])"
   ]
  },
  {
   "cell_type": "code",
   "execution_count": 83,
   "id": "f81b907c-b310-45fd-b751-b29473793f54",
   "metadata": {},
   "outputs": [],
   "source": [
    "def select_in_task(task_relations, data):\n",
    "    selected_data = []\n",
    "    for item in data:\n",
    "        if item['relation'] in task_relations:\n",
    "            item['tokens'] = item['token']\n",
    "            selected_data.append(item)\n",
    "    return selected_data"
   ]
  },
  {
   "cell_type": "code",
   "execution_count": 65,
   "id": "2619cb50-821f-4cfa-b199-873eed9fceec",
   "metadata": {},
   "outputs": [],
   "source": [
    "# train_path\n",
    "train_path = '/Users/sefika/phd_projects/CRE_PTM copy/data/tacred/data/final/train.json'\n",
    "# val_path\n",
    "val_path = '/Users/sefika/phd_projects/CRE_PTM copy/data/tacred/data/final/dev.json'\n",
    "# test_path\n",
    "test_path = '/Users/sefika/phd_projects/CRE_PTM copy/data/tacred/data/final/test.json'"
   ]
  },
  {
   "cell_type": "code",
   "execution_count": 85,
   "id": "801fc086-5207-4e4d-90d1-b9fc88b116b1",
   "metadata": {},
   "outputs": [],
   "source": [
    "# remove unused relation types.\n",
    "train_data = select_in_task(relation_types, read_json(train_path))\n",
    "val_data = select_in_task(relation_types, read_json(val_path))\n",
    "test_data = select_in_task(relation_types, read_json(test_path))\n"
   ]
  },
  {
   "cell_type": "code",
   "execution_count": 95,
   "id": "065f55ae-89b0-4967-8fc5-c40d982dc4c2",
   "metadata": {},
   "outputs": [],
   "source": [
    "all_data = []\n",
    "all_data.extend(train_data)\n",
    "all_data.extend(val_data)\n",
    "all_data.extend(test_data)"
   ]
  },
  {
   "cell_type": "code",
   "execution_count": 107,
   "id": "1f0cf584-6271-4968-86d3-049f2c5c63b7",
   "metadata": {},
   "outputs": [],
   "source": [
    "all_data_info = total_count_dataset(all_data)\n",
    "stats_tacred = compute_stats(all_data_info)"
   ]
  },
  {
   "cell_type": "markdown",
   "id": "f4d9ff28-30f9-49e8-9357-1a99bcfe6682",
   "metadata": {},
   "source": [
    "### Visualize"
   ]
  },
  {
   "cell_type": "code",
   "execution_count": 142,
   "id": "8195a8c8-d9b8-402c-82d5-e479e9715373",
   "metadata": {},
   "outputs": [],
   "source": [
    "stats_tacred['data']='TACRED'"
   ]
  },
  {
   "cell_type": "code",
   "execution_count": 140,
   "id": "8eabf7b8-8054-448e-a52e-5eba5e6de66f",
   "metadata": {},
   "outputs": [],
   "source": [
    "fewrel_stats['data']='FewRel'"
   ]
  },
  {
   "cell_type": "code",
   "execution_count": 144,
   "id": "e3da0e13-26b8-4643-ad0f-f96ad6416508",
   "metadata": {},
   "outputs": [],
   "source": [
    "stats = []\n",
    "stats.append(stats_tacred)\n",
    "stats.append(fewrel_stats)"
   ]
  },
  {
   "cell_type": "code",
   "execution_count": 152,
   "id": "f6dac7ad-340f-4498-ae5d-68ce71d93992",
   "metadata": {},
   "outputs": [
    {
     "data": {
      "text/plain": [
       "{'min': 4, 'max': 36, 'mean': 24.952375, 'size': 56000, 'data': 'FewRel'}"
      ]
     },
     "execution_count": 152,
     "metadata": {},
     "output_type": "execute_result"
    }
   ],
   "source": [
    "fewrel_stats"
   ]
  },
  {
   "cell_type": "code",
   "execution_count": 150,
   "id": "5963ee5b-7802-4ef1-9eb6-1cf4f7e502e5",
   "metadata": {},
   "outputs": [
    {
     "data": {
      "image/png": "[encoded data removed]",
      "text/plain": [
       "<Figure size 1000x600 with 1 Axes>"
      ]
     },
     "metadata": {},
     "output_type": "display_data"
    }
   ],
   "source": [
    "import matplotlib.pyplot as plt\n",
    "import numpy as np\n",
    "\n",
    "# Assuming 'stats' is the data you're working with\n",
    "data = stats  # Replace this with your actual data\n",
    "\n",
    "# Extract values from the data\n",
    "labels = [item['data'] for item in data]\n",
    "min_values = [item['min'] for item in data]\n",
    "max_values = [item['max'] for item in data]\n",
    "mean_values = [item['mean'] for item in data]\n",
    "\n",
    "# Set up positions for the bars on the x-axis\n",
    "x = np.arange(len(data))\n",
    "\n",
    "# Plotting\n",
    "fig, ax = plt.subplots(figsize=(10, 6))\n",
    "\n",
    "# Bar width\n",
    "bar_width = 0.2\n",
    "\n",
    "# Define colors for the bars\n",
    "colors = ['#1f77b4', '#2ca02c', '#ff7f0e']  # Blue, Green, Orange\n",
    "\n",
    "# Plot each group of bars\n",
    "min_bars = ax.bar(x - bar_width, min_values, bar_width, label='Min', color=colors[0])\n",
    "max_bars = ax.bar(x, max_values, bar_width, label='Max', color=colors[1])\n",
    "mean_bars = ax.bar(x + bar_width, mean_values, bar_width, label='Mean', color=colors[2])\n",
    "\n",
    "# Labels and title with customized font size\n",
    "ax.set_xlabel('Dataset', fontsize=18)\n",
    "ax.set_ylabel('Values', fontsize=18)\n",
    "ax.set_title('Token Count Statistics per Sentence in Datasets', fontsize=20)\n",
    "\n",
    "# Customize x-ticks to show the dataset names and increase font size\n",
    "ax.set_xticks(x)\n",
    "ax.set_xticklabels(labels, fontsize=16)\n",
    "\n",
    "# Customize y-ticks font size\n",
    "ax.tick_params(axis='y', labelsize=14)\n",
    "ax.tick_params(axis='x', labelsize=14)\n",
    "\n",
    "# Annotate counts at the top of the bars\n",
    "def annotate_bars(bars):\n",
    "    for bar in bars:\n",
    "        height = bar.get_height()  # Get the height of the bar\n",
    "        ax.text(bar.get_x() + bar.get_width() / 2, height, f'{height:.1f}', \n",
    "                ha='center', va='bottom', fontsize=12, color='black')\n",
    "\n",
    "# Add annotations for each bar group (min, max, and mean)\n",
    "annotate_bars(min_bars)\n",
    "annotate_bars(max_bars)\n",
    "annotate_bars(mean_bars)\n",
    "\n",
    "# Customize the legend with larger font\n",
    "ax.legend(fontsize=14)\n",
    "\n",
    "# Save the figure as a PDF with high dpi\n",
    "plt.tight_layout()\n",
    "plt.savefig('data_stats.pdf', dpi=500)\n",
    "\n",
    "# Display the chart\n",
    "plt.show()\n"
   ]
  }
 ],
 "metadata": {
  "kernelspec": {
   "display_name": "Python 3 (ipykernel)",
   "language": "python",
   "name": "python3"
  },
  "language_info": {
   "codemirror_mode": {
    "name": "ipython",
    "version": 3
   },
   "file_extension": ".py",
   "mimetype": "text/x-python",
   "name": "python",
   "nbconvert_exporter": "python",
   "pygments_lexer": "ipython3",
   "version": "3.11.7"
  }
 },
 "nbformat": 4,
 "nbformat_minor": 5
}
