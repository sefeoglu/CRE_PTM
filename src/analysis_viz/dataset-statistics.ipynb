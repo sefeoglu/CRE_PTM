{
 "cells": [
  {
   "cell_type": "markdown",
   "id": "6aa6b746-8cb5-4bc0-a951-4a0647eca6d4",
   "metadata": {},
   "source": [
    "# Dataset Statistics"
   ]
  },
  {
   "cell_type": "code",
   "execution_count": null,
   "id": "f0080145-c4b2-40f0-a363-ce2567bf2789",
   "metadata": {},
   "outputs": [],
   "source": [
    "# libraries"
   ]
  },
  {
   "cell_type": "code",
   "execution_count": null,
   "id": "a8bf2a4f-0b2b-42e4-bb96-9436b313f06c",
   "metadata": {},
   "outputs": [],
   "source": [
    "# common functions"
   ]
  },
  {
   "cell_type": "code",
   "execution_count": null,
   "id": "5fad41fe-b08c-44a5-871c-061f132f9c9e",
   "metadata": {},
   "outputs": [],
   "source": [
    "def tokenizer():\n",
    "    pass\n",
    "\n",
    "def count_tokens():\n",
    "    pass\n",
    "def compute_stats():\n",
    "    pass"
   ]
  },
  {
   "cell_type": "code",
   "execution_count": null,
   "id": "2b1f1419-54ba-4064-883c-8ec33c180a31",
   "metadata": {},
   "outputs": [],
   "source": [
    "def visualize_stats_with_barchart():\n",
    "    pass"
   ]
  },
  {
   "cell_type": "markdown",
   "id": "f6ae3bb7-97d2-48d4-9b46-4cfd6d82a1b9",
   "metadata": {},
   "source": [
    "## TACRED"
   ]
  },
  {
   "cell_type": "code",
   "execution_count": null,
   "id": "81631fec-575c-49d6-be11-7424fd6c0163",
   "metadata": {},
   "outputs": [],
   "source": []
  },
  {
   "cell_type": "code",
   "execution_count": null,
   "id": "2619cb50-821f-4cfa-b199-873eed9fceec",
   "metadata": {},
   "outputs": [],
   "source": [
    "# train_path\n",
    "# val_path\n",
    "# test_path"
   ]
  },
  {
   "cell_type": "code",
   "execution_count": null,
   "id": "801fc086-5207-4e4d-90d1-b9fc88b116b1",
   "metadata": {},
   "outputs": [],
   "source": []
  },
  {
   "cell_type": "code",
   "execution_count": null,
   "id": "1f0cf584-6271-4968-86d3-049f2c5c63b7",
   "metadata": {},
   "outputs": [],
   "source": []
  },
  {
   "cell_type": "code",
   "execution_count": null,
   "id": "5e76c248-7dd3-42fb-9349-7cbaf4aec6bb",
   "metadata": {},
   "outputs": [],
   "source": []
  },
  {
   "cell_type": "code",
   "execution_count": null,
   "id": "a43c1675-85fb-48ca-9108-a2182716d63b",
   "metadata": {},
   "outputs": [],
   "source": []
  },
  {
   "cell_type": "markdown",
   "id": "5932e087-f61a-4325-aad8-a90e4f11853b",
   "metadata": {},
   "source": [
    "## FewRel"
   ]
  },
  {
   "cell_type": "code",
   "execution_count": null,
   "id": "72d10946-cefc-4b7f-adf5-057e80f91bcb",
   "metadata": {},
   "outputs": [],
   "source": [
    "# train_path\n",
    "# val_path\n",
    "# test_path\n"
   ]
  }
 ],
 "metadata": {
  "kernelspec": {
   "display_name": "Python [conda env:anaconda3] *",
   "language": "python",
   "name": "conda-env-anaconda3-py"
  },
  "language_info": {
   "codemirror_mode": {
    "name": "ipython",
    "version": 3
   },
   "file_extension": ".py",
   "mimetype": "text/x-python",
   "name": "python",
   "nbconvert_exporter": "python",
   "pygments_lexer": "ipython3",
   "version": "3.12.7"
  }
 },
 "nbformat": 4,
 "nbformat_minor": 5
}
